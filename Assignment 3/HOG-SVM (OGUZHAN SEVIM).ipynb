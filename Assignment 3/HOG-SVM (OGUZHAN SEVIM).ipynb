
{
 "cells": [
  {
   "cell_type": "markdown",
   "metadata": {},
   "source": [
    "## I had a last minute problem in the general pipeline. My HOG part stopped working and I couldn't figure out why.\n",
    "## So, as a last result, I submit this notebook for my part (Oguzhan Sevim)."
   ]
  },
  {
   "cell_type": "code",
   "execution_count": 17,
   "metadata": {},